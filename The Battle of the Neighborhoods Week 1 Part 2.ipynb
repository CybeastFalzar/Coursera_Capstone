{
    "cells": [
        {
            "cell_type": "markdown",
            "metadata": {
                "collapsed": true
            },
            "source": "# Introduction:"
        },
        {
            "cell_type": "markdown",
            "metadata": {},
            "source": "Here in New York, food is a part of the local culture as it defines us. One of the foods that define us New Yorkers would be a bacon, egg, and cheese on a roll from your local deli. This is usually said as one word being, baconeggandcheese as when you order it you say it as one fluid word. When most tourists come to New York City from other places in the world they usually spend their time in Manhattan eating at fancy restaurants; you can't be a real New Yorker without a baconeggandcheese. The problem we are trying to solve is to find the best deli in New York City to get your sandwitch. This is a staple at every deli so what we have to look for are some of the best rated deli's.  "
        },
        {
            "cell_type": "markdown",
            "metadata": {},
            "source": "# Data Selection"
        },
        {
            "cell_type": "markdown",
            "metadata": {},
            "source": "The FourSquare API will be used to collect data about deli's in New York City. What will happen after is that I will narrow this down to the top 5 delis in New York City that will be suitable for the new tourists. Because deli's are such a huge part of the culture of NYC, you will be able to connect and meet so many more new people and interact with many different ethnical backgrounds. FourSqaure's API is perfect for a project like this were I am able to get the geodata and map out my results based on the data that I am using such the ratings of the delis. "
        },
        {
            "cell_type": "code",
            "execution_count": null,
            "metadata": {},
            "outputs": [],
            "source": ""
        }
    ],
    "metadata": {
        "kernelspec": {
            "display_name": "Python 3.7",
            "language": "python",
            "name": "python3"
        },
        "language_info": {
            "codemirror_mode": {
                "name": "ipython",
                "version": 3
            },
            "file_extension": ".py",
            "mimetype": "text/x-python",
            "name": "python",
            "nbconvert_exporter": "python",
            "pygments_lexer": "ipython3",
            "version": "3.7.9"
        }
    },
    "nbformat": 4,
    "nbformat_minor": 1
}